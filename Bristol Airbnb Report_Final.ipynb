{
 "cells": [
  {
   "cell_type": "markdown",
   "metadata": {},
   "source": [
    "# Bristol Airbnb Listing: Price Prediction"
   ]
  },
  {
   "cell_type": "markdown",
   "metadata": {},
   "source": [
    "Introduction\n",
    "\n",
    "Airbnb is a broker who arranges short term lodgings between hosts and guests which is operated on Airbnb’s website and mobile application. Many hosts on Airbnb are not doing hospitality business, they are just renting out their living space. Hence, they don’t know much of the insight and knowledge about lodging. Accordingly, assistance is needed so that these hosts stay competitive, especially in term of pricing. Therefore, this analysis seeks to build a model that taken different attributes such as bedrooms, location, house type, and others, to predict the price that is an optimal price which isn't too expensive that it drives guests away to other properties, or too cheap that it is not profitable to the host.\n",
    "\n",
    "This analysis shows details step and coding of how to build such a prediction model from beginning to end. First, the data is examined to gain both an overview and an in-depth understanding of the dataset. Then, the business problem is framed, followed by data cleaning and visualization. Next step is building and validating models. Afterward, the best model is selected and evaluated."
   ]
  },
  {
   "cell_type": "markdown",
   "metadata": {},
   "source": [
    "# Exploring Data"
   ]
  },
  {
   "cell_type": "markdown",
   "metadata": {},
   "source": [
    "The first activity is to examine Bristol Airbnb Dataset to see its structure, attribute data types, null, overview statistics of all features. Also, examples of instances from the top and bottom of the table are also viewed. Then, an examination of each attribute to see its value is performed. "
   ]
  },
  {
   "cell_type": "code",
   "execution_count": 1,
   "metadata": {},
   "outputs": [],
   "source": [
    "# import basic packages.\n",
    "import numpy as np\n",
    "import pandas as pd"
   ]
  },
  {
   "cell_type": "code",
   "execution_count": 2,
   "metadata": {},
   "outputs": [],
   "source": [
    "# read data.\n",
    "airbnb = pd.read_csv(\"C://Users//DELL//Desktop//Strathclyde 2018-2019//Classes//S2-CS 986 Machine Learning//Assignment//BristolAirbnbListings.csv\")"
   ]
  },
  {
   "cell_type": "code",
   "execution_count": 3,
   "metadata": {},
   "outputs": [
    {
     "name": "stdout",
     "output_type": "stream",
     "text": [
      "<class 'pandas.core.frame.DataFrame'>\n",
      "RangeIndex: 2375 entries, 0 to 2374\n",
      "Data columns (total 28 columns):\n",
      "id                                2375 non-null int64\n",
      "name                              2375 non-null object\n",
      "host_id                           2375 non-null int64\n",
      "host_name                         2375 non-null object\n",
      "neighbourhood                     2375 non-null object\n",
      "postcode                          2326 non-null object\n",
      "latitude                          2375 non-null float64\n",
      "longitude                         2375 non-null float64\n",
      "property_type                     2375 non-null object\n",
      "room_type                         2375 non-null object\n",
      "accommodates                      2375 non-null object\n",
      "bathrooms                         2372 non-null object\n",
      "bedrooms                          2372 non-null object\n",
      "beds                              2372 non-null object\n",
      "price                             2375 non-null int64\n",
      "minimum_nights                    2375 non-null int64\n",
      "number_of_reviews                 2375 non-null int64\n",
      "last_review                       2069 non-null object\n",
      "reviews_per_month                 2069 non-null float64\n",
      "review_scores_rating              2039 non-null object\n",
      "review_scores_accuracy            2037 non-null object\n",
      "review_scores_cleanliness         2037 non-null object\n",
      "review_scores_checkin             2035 non-null object\n",
      "review_scores_communication       2037 non-null float64\n",
      "review_scores_location            2035 non-null float64\n",
      "review_scores_value               2035 non-null float64\n",
      "calculated_host_listings_count    2375 non-null int64\n",
      "availability_365                  2375 non-null int64\n",
      "dtypes: float64(6), int64(7), object(15)\n",
      "memory usage: 519.6+ KB\n"
     ]
    },
    {
     "data": {
      "text/html": [
       "<div>\n",
       "<style scoped>\n",
       "    .dataframe tbody tr th:only-of-type {\n",
       "        vertical-align: middle;\n",
       "    }\n",
       "\n",
       "    .dataframe tbody tr th {\n",
       "        vertical-align: top;\n",
       "    }\n",
       "\n",
       "    .dataframe thead th {\n",
       "        text-align: right;\n",
       "    }\n",
       "</style>\n",
       "<table border=\"1\" class=\"dataframe\">\n",
       "  <thead>\n",
       "    <tr style=\"text-align: right;\">\n",
       "      <th></th>\n",
       "      <th>id</th>\n",
       "      <th>name</th>\n",
       "      <th>host_id</th>\n",
       "      <th>host_name</th>\n",
       "      <th>neighbourhood</th>\n",
       "      <th>postcode</th>\n",
       "      <th>latitude</th>\n",
       "      <th>longitude</th>\n",
       "      <th>property_type</th>\n",
       "      <th>room_type</th>\n",
       "      <th>...</th>\n",
       "      <th>reviews_per_month</th>\n",
       "      <th>review_scores_rating</th>\n",
       "      <th>review_scores_accuracy</th>\n",
       "      <th>review_scores_cleanliness</th>\n",
       "      <th>review_scores_checkin</th>\n",
       "      <th>review_scores_communication</th>\n",
       "      <th>review_scores_location</th>\n",
       "      <th>review_scores_value</th>\n",
       "      <th>calculated_host_listings_count</th>\n",
       "      <th>availability_365</th>\n",
       "    </tr>\n",
       "  </thead>\n",
       "  <tbody>\n",
       "    <tr>\n",
       "      <th>2370</th>\n",
       "      <td>30082974</td>\n",
       "      <td>Chandos House room 5</td>\n",
       "      <td>225389090</td>\n",
       "      <td>James</td>\n",
       "      <td>Cotham</td>\n",
       "      <td>BS6 6PF</td>\n",
       "      <td>51.468820</td>\n",
       "      <td>-2.602978</td>\n",
       "      <td>House</td>\n",
       "      <td>Private room</td>\n",
       "      <td>...</td>\n",
       "      <td>NaN</td>\n",
       "      <td>NaN</td>\n",
       "      <td>NaN</td>\n",
       "      <td>NaN</td>\n",
       "      <td>NaN</td>\n",
       "      <td>NaN</td>\n",
       "      <td>NaN</td>\n",
       "      <td>NaN</td>\n",
       "      <td>7</td>\n",
       "      <td>177</td>\n",
       "    </tr>\n",
       "    <tr>\n",
       "      <th>2371</th>\n",
       "      <td>30083433</td>\n",
       "      <td>Chandos House room 6</td>\n",
       "      <td>225389090</td>\n",
       "      <td>James</td>\n",
       "      <td>Cotham</td>\n",
       "      <td>BS6 6PF</td>\n",
       "      <td>51.468602</td>\n",
       "      <td>-2.604548</td>\n",
       "      <td>House</td>\n",
       "      <td>Private room</td>\n",
       "      <td>...</td>\n",
       "      <td>NaN</td>\n",
       "      <td>NaN</td>\n",
       "      <td>NaN</td>\n",
       "      <td>NaN</td>\n",
       "      <td>NaN</td>\n",
       "      <td>NaN</td>\n",
       "      <td>NaN</td>\n",
       "      <td>NaN</td>\n",
       "      <td>7</td>\n",
       "      <td>177</td>\n",
       "    </tr>\n",
       "    <tr>\n",
       "      <th>2372</th>\n",
       "      <td>30083976</td>\n",
       "      <td>Chandos House room 7</td>\n",
       "      <td>225389090</td>\n",
       "      <td>James</td>\n",
       "      <td>Cotham</td>\n",
       "      <td>BS6 6PF</td>\n",
       "      <td>51.467852</td>\n",
       "      <td>-2.603493</td>\n",
       "      <td>House</td>\n",
       "      <td>Private room</td>\n",
       "      <td>...</td>\n",
       "      <td>NaN</td>\n",
       "      <td>NaN</td>\n",
       "      <td>NaN</td>\n",
       "      <td>NaN</td>\n",
       "      <td>NaN</td>\n",
       "      <td>NaN</td>\n",
       "      <td>NaN</td>\n",
       "      <td>NaN</td>\n",
       "      <td>7</td>\n",
       "      <td>177</td>\n",
       "    </tr>\n",
       "    <tr>\n",
       "      <th>2373</th>\n",
       "      <td>30097167</td>\n",
       "      <td>Lawford Apartments</td>\n",
       "      <td>226145538</td>\n",
       "      <td>Nie</td>\n",
       "      <td>Lawrence Hill</td>\n",
       "      <td>BS2 0DH</td>\n",
       "      <td>51.457777</td>\n",
       "      <td>-2.579308</td>\n",
       "      <td>Casa particular (Cuba)</td>\n",
       "      <td>Entire home/apt</td>\n",
       "      <td>...</td>\n",
       "      <td>NaN</td>\n",
       "      <td>NaN</td>\n",
       "      <td>NaN</td>\n",
       "      <td>NaN</td>\n",
       "      <td>NaN</td>\n",
       "      <td>NaN</td>\n",
       "      <td>NaN</td>\n",
       "      <td>NaN</td>\n",
       "      <td>1</td>\n",
       "      <td>82</td>\n",
       "    </tr>\n",
       "    <tr>\n",
       "      <th>2374</th>\n",
       "      <td>30099927</td>\n",
       "      <td>Small and cosy double room in Totterdown</td>\n",
       "      <td>7773760</td>\n",
       "      <td>Dee</td>\n",
       "      <td>Windmill Hill</td>\n",
       "      <td>BS4 3BX</td>\n",
       "      <td>51.442131</td>\n",
       "      <td>-2.572238</td>\n",
       "      <td>House</td>\n",
       "      <td>Private room</td>\n",
       "      <td>...</td>\n",
       "      <td>NaN</td>\n",
       "      <td>NaN</td>\n",
       "      <td>NaN</td>\n",
       "      <td>NaN</td>\n",
       "      <td>NaN</td>\n",
       "      <td>NaN</td>\n",
       "      <td>NaN</td>\n",
       "      <td>NaN</td>\n",
       "      <td>2</td>\n",
       "      <td>347</td>\n",
       "    </tr>\n",
       "  </tbody>\n",
       "</table>\n",
       "<p>5 rows × 28 columns</p>\n",
       "</div>"
      ],
      "text/plain": [
       "            id                                      name    host_id host_name  \\\n",
       "2370  30082974                      Chandos House room 5  225389090     James   \n",
       "2371  30083433                      Chandos House room 6  225389090     James   \n",
       "2372  30083976                      Chandos House room 7  225389090     James   \n",
       "2373  30097167                        Lawford Apartments  226145538       Nie   \n",
       "2374  30099927  Small and cosy double room in Totterdown    7773760       Dee   \n",
       "\n",
       "      neighbourhood postcode   latitude  longitude           property_type  \\\n",
       "2370         Cotham  BS6 6PF  51.468820  -2.602978                   House   \n",
       "2371         Cotham  BS6 6PF  51.468602  -2.604548                   House   \n",
       "2372         Cotham  BS6 6PF  51.467852  -2.603493                   House   \n",
       "2373  Lawrence Hill  BS2 0DH  51.457777  -2.579308  Casa particular (Cuba)   \n",
       "2374  Windmill Hill  BS4 3BX  51.442131  -2.572238                   House   \n",
       "\n",
       "            room_type       ...        reviews_per_month review_scores_rating  \\\n",
       "2370     Private room       ...                      NaN                  NaN   \n",
       "2371     Private room       ...                      NaN                  NaN   \n",
       "2372     Private room       ...                      NaN                  NaN   \n",
       "2373  Entire home/apt       ...                      NaN                  NaN   \n",
       "2374     Private room       ...                      NaN                  NaN   \n",
       "\n",
       "     review_scores_accuracy review_scores_cleanliness  review_scores_checkin  \\\n",
       "2370                    NaN                       NaN                    NaN   \n",
       "2371                    NaN                       NaN                    NaN   \n",
       "2372                    NaN                       NaN                    NaN   \n",
       "2373                    NaN                       NaN                    NaN   \n",
       "2374                    NaN                       NaN                    NaN   \n",
       "\n",
       "      review_scores_communication  review_scores_location review_scores_value  \\\n",
       "2370                          NaN                     NaN                 NaN   \n",
       "2371                          NaN                     NaN                 NaN   \n",
       "2372                          NaN                     NaN                 NaN   \n",
       "2373                          NaN                     NaN                 NaN   \n",
       "2374                          NaN                     NaN                 NaN   \n",
       "\n",
       "      calculated_host_listings_count availability_365  \n",
       "2370                               7              177  \n",
       "2371                               7              177  \n",
       "2372                               7              177  \n",
       "2373                               1               82  \n",
       "2374                               2              347  \n",
       "\n",
       "[5 rows x 28 columns]"
      ]
     },
     "execution_count": 3,
     "metadata": {},
     "output_type": "execute_result"
    }
   ],
   "source": [
    "# overviewing data.\n",
    "airbnb.describe()\n",
    "airbnb.info()\n",
    "airbnb.isnull().sum()\n",
    "airbnb.head()\n",
    "airbnb.tail()"
   ]
  },
  {
   "cell_type": "code",
   "execution_count": 4,
   "metadata": {},
   "outputs": [
    {
     "data": {
      "text/plain": [
       "10.0    1190\n",
       "9.0      701\n",
       "8.0      108\n",
       "6.0       15\n",
       "7.0       14\n",
       "4.0        4\n",
       "2.0        2\n",
       "0.0        1\n",
       "Name: review_scores_value, dtype: int64"
      ]
     },
     "execution_count": 4,
     "metadata": {},
     "output_type": "execute_result"
    }
   ],
   "source": [
    "# looking into each attributes\n",
    "airbnb['property_type'].value_counts()\n",
    "airbnb['room_type'].value_counts()\n",
    "airbnb['accommodates'].value_counts()\n",
    "airbnb['bathrooms'].value_counts()\n",
    "airbnb['bedrooms'].value_counts()\n",
    "airbnb['number_of_reviews'].value_counts()\n",
    "airbnb['review_scores_value'].value_counts()"
   ]
  },
  {
   "cell_type": "markdown",
   "metadata": {},
   "source": [
    "It is found that the dataset contains Airbnb listing properties’ names, type, room type, hostname, host id, longitude and latitude, price, guest review data, and review scores in various categories. There are 2375 records and a total of 28 attributes, 13 floats and integers, and 15 strings.\n",
    "\n",
    "Moreover, there are many unusual records in property_type, accommodates, bathrooms, bedrooms, beds, price, number_of_reviews, reviews_per_month, review_scores_rating, review_scores_accuracy, review_scores_cleanliness, review_scores_checkin columns. For example, there are Private room, Entire home/apt, City of Bristol, Guesthouse, Apartment records in accommodates column, rather accommodatable number of people in the property.\n"
   ]
  },
  {
   "cell_type": "markdown",
   "metadata": {},
   "source": [
    "# Frame the problem"
   ]
  },
  {
   "cell_type": "markdown",
   "metadata": {},
   "source": [
    "After exploring and studying the dataset, it is time to start structuring the problem and designing the model. To begin with, the business objective of this report is to build a model that predicts the price of property on Airbnb. The model should take provided data such as a number of people the property can accommodate, location, property type, and others, to predict the price. This model will help hosts find the optimal price for their listing property.\n",
    "\n",
    "Regarding the business objective and the data provided, the model should be a supervised model which performing a regression task. It is also a univariate regression problem since it is expected to predict only one value for each listing property. Lastly, because it is a regression task, RMSE will be used to measure a model’s performance.\n"
   ]
  },
  {
   "cell_type": "markdown",
   "metadata": {},
   "source": [
    "# Cleaning Data"
   ]
  },
  {
   "cell_type": "markdown",
   "metadata": {},
   "source": [
    "According to the exploration in the earlier step, some data are not making sense in many columns, such as Private room records in accommodates column.  These unusual records are obstructing the analysis and should be removed. "
   ]
  },
  {
   "cell_type": "code",
   "execution_count": 5,
   "metadata": {},
   "outputs": [
    {
     "name": "stderr",
     "output_type": "stream",
     "text": [
      "C:\\Anaconda2\\lib\\site-packages\\ipykernel_launcher.py:4: UserWarning: Boolean Series key will be reindexed to match DataFrame index.\n",
      "  after removing the cwd from sys.path.\n"
     ]
    }
   ],
   "source": [
    "# drop rows that have unusal data.\n",
    "airdrop = airbnb[(airbnb['accommodates'] <> 'Private room')& (airbnb['accommodates'] <> 'Entire home/apt') & (airbnb['accommodates'] <> 'City of Bristol')& (airbnb['accommodates'] <> 'Guesthouse')&(airbnb['accommodates'] <> 'Apartment')]\n",
    "airdrop = airbnb[(airbnb['property_type'] <> 't')&(airbnb['property_type'] <> 'f') & (airbnb['property_type'] <> '-2.5851114426') & (airbnb['property_type'] <> '-2.6102001818') & (airbnb['property_type'] <> 'Clifton')]\n",
    "airdrop = airdrop[(airbnb['price'] <> 0)]"
   ]
  },
  {
   "cell_type": "markdown",
   "metadata": {},
   "source": [
    "Moreover, price, bathrooms, bedrooms and beds columns contain Nan values which must be dropped from the dataset as well."
   ]
  },
  {
   "cell_type": "code",
   "execution_count": 6,
   "metadata": {},
   "outputs": [],
   "source": [
    "# drop row that containts NAN in bathrooms/bedrooms/beds/price columns.\n",
    "airdrop = airdrop.dropna(subset = ['beds', 'bedrooms', 'bathrooms', 'price'])"
   ]
  },
  {
   "cell_type": "markdown",
   "metadata": {},
   "source": [
    "Furthermore, there are still Nan values in number_of_reviews, last_review, reviews_per_month, review_scores_rating, review_scores_accuracy, review_scores_cleanliness, review_scores_checkin, review_scores_communication, review_scores_location, review_scores_value columns. It is assumed that instances that have Nan in these columns are newly listed. They haven’t been reviewed by their guests or even haven’t been booked. Since these NAN should be filled with 0 rather than drop off like above NAN."
   ]
  },
  {
   "cell_type": "code",
   "execution_count": 7,
   "metadata": {},
   "outputs": [],
   "source": [
    "#fill in 0 to cell that is Nan in review related columns.\n",
    "airfill = airdrop.fillna(0, inplace=False)"
   ]
  },
  {
   "cell_type": "markdown",
   "metadata": {},
   "source": [
    "Lastly, data in accommodates, bathroom, bedrooms, beds, and rating, accuracy, cleanliness, checkin columns are a string object. They are in number form and supposed to be number type. Hence data type conversion is performed to convert object datatype to float data type."
   ]
  },
  {
   "cell_type": "code",
   "execution_count": 8,
   "metadata": {},
   "outputs": [],
   "source": [
    "# convert object to float.\n",
    "airfill['accommodates'] = airfill['accommodates'].astype('float')\n",
    "airfill['bathrooms'] = airfill['bathrooms'].astype('float')\n",
    "airfill['bedrooms'] = airfill['bedrooms'].astype('float')\n",
    "airfill['beds'] = airfill['beds'].astype('float')\n",
    "airfill['review_scores_rating'] = airfill['review_scores_rating'].astype('float')\n",
    "airfill['review_scores_accuracy'] = airfill['review_scores_accuracy'].astype('float')\n",
    "airfill['review_scores_cleanliness'] = airfill['review_scores_cleanliness'].astype('float')\n",
    "airfill['review_scores_checkin'] = airfill['review_scores_checkin'].astype('float')"
   ]
  },
  {
   "cell_type": "markdown",
   "metadata": {},
   "source": [
    "# Data Visualising"
   ]
  },
  {
   "cell_type": "markdown",
   "metadata": {},
   "source": [
    "Visualisation is part of an exploration process which helps identify outliers, needed transformation or help generate new insight about the data. It is also a handy tool for geographic information. "
   ]
  },
  {
   "cell_type": "markdown",
   "metadata": {},
   "source": [
    "Histogram\n",
    "\n",
    "First, histograms are created to show how each attribute is distributed."
   ]
  },
  {
   "cell_type": "code",
   "execution_count": 9,
   "metadata": {},
   "outputs": [],
   "source": [
    "# histogram of all data\n",
    "import matplotlib.pyplot as plt"
   ]
  },
  {
   "cell_type": "code",
   "execution_count": 10,
   "metadata": {},
   "outputs": [
    {
     "data": {
      "image/png": "[encoded data removed]",
      "text/plain": [
       "<Figure size 1440x1080 with 25 Axes>"
      ]
     },
     "metadata": {
      "needs_background": "light"
     },
     "output_type": "display_data"
    }
   ],
   "source": [
    "# seeing distibution of data of each attributes\n",
    "%matplotlib inline\n",
    "airfill.hist(bins = 50, figsize = (20,15))\n",
    "plt.show()"
   ]
  },
  {
   "cell_type": "markdown",
   "metadata": {},
   "source": [
    "The histograms show that data of all attributes are skewed. Id, latitude, longitude, review_scores_rating, review_scores_accuracy, review_scores_cleanliness, review_scores_checkin, review_scores_communication, review_scores_location, review_scores_value attributes are right-skewed distribution which means that their means are more than their median.\n",
    "\n",
    "On the other hands, other columns are left-skewed distribution which means that their means are less than their median.\n",
    "\n",
    "It is also noticeable that the ranges of data across attributes are not the same, some range from 0-10, while others are 0-100.\n"
   ]
  },
  {
   "cell_type": "markdown",
   "metadata": {},
   "source": [
    "Plot Geographical data\n",
    "\n",
    "Since latitude and longitude data are provided in the dataset, it is worth to plot the data to visualise the location and its associated price."
   ]
  },
  {
   "cell_type": "code",
   "execution_count": 11,
   "metadata": {},
   "outputs": [
    {
     "data": {
      "text/plain": [
       "Text(0.5,1,'Geographical scatter plot of location and price')"
      ]
     },
     "execution_count": 11,
     "metadata": {},
     "output_type": "execute_result"
    },
    {
     "data": {
      "image/png": "[encoded data removed]",
      "text/plain": [
       "<Figure size 432x288 with 2 Axes>"
      ]
     },
     "metadata": {
      "needs_background": "light"
     },
     "output_type": "display_data"
    }
   ],
   "source": [
    "# plot latitude and longitude vs. price\n",
    "airfill.plot(kind = \"scatter\", x = 'longitude', y='latitude', alpha = 0.4, c= 'price', cmap = 'Paired', colorbar = True)\n",
    "plt.title ( \"Geographical scatter plot of location and price\")"
   ]
  },
  {
   "cell_type": "markdown",
   "metadata": {},
   "source": [
    "Calculating correlation coefficient and creating scatter plot\n",
    "\n",
    "Last part of visualization is looking into the correlation between attributes and creating scatter plots to show relationship and spot outliers in the data.\n",
    "\n",
    "First, the correlation matrix of price, the target of analysis, is calculated against other attributes. "
   ]
  },
  {
   "cell_type": "code",
   "execution_count": 12,
   "metadata": {},
   "outputs": [
    {
     "data": {
      "text/plain": [
       "price                             1.000000\n",
       "beds                              0.508138\n",
       "accommodates                      0.479295\n",
       "bedrooms                          0.437025\n",
       "bathrooms                         0.333737\n",
       "availability_365                  0.100382\n",
       "id                                0.072596\n",
       "host_id                           0.021467\n",
       "calculated_host_listings_count    0.009794\n",
       "minimum_nights                   -0.012110\n",
       "latitude                         -0.029584\n",
       "longitude                        -0.065763\n",
       "number_of_reviews                -0.071469\n",
       "reviews_per_month                -0.071806\n",
       "review_scores_location           -0.074647\n",
       "review_scores_cleanliness        -0.076584\n",
       "review_scores_rating             -0.080812\n",
       "review_scores_checkin            -0.081713\n",
       "review_scores_communication      -0.083259\n",
       "review_scores_accuracy           -0.092769\n",
       "review_scores_value              -0.099815\n",
       "Name: price, dtype: float64"
      ]
     },
     "execution_count": 12,
     "metadata": {},
     "output_type": "execute_result"
    }
   ],
   "source": [
    "# corelation of attributes\n",
    "corr_airfill = airfill.corr()\n",
    "corr_airfill['price'].sort_values(ascending = False)"
   ]
  },
  {
   "cell_type": "markdown",
   "metadata": {},
   "source": [
    "Next, the correlation between attributes is plotted. However, as there are 28 attributes which are bigger than the display window, only those high correlation attributes beds, accommodates, bedrooms, and bathrooms attributes are plotted."
   ]
  },
  {
   "cell_type": "code",
   "execution_count": 13,
   "metadata": {},
   "outputs": [
    {
     "data": {
      "text/plain": [
       "array([[<matplotlib.axes._subplots.AxesSubplot object at 0x000000000DDB8E48>,\n",
       "        <matplotlib.axes._subplots.AxesSubplot object at 0x000000000E511BA8>,\n",
       "        <matplotlib.axes._subplots.AxesSubplot object at 0x000000000E45A358>,\n",
       "        <matplotlib.axes._subplots.AxesSubplot object at 0x000000000E701AC8>,\n",
       "        <matplotlib.axes._subplots.AxesSubplot object at 0x000000000E73A278>],\n",
       "       [<matplotlib.axes._subplots.AxesSubplot object at 0x000000000E76B9E8>,\n",
       "        <matplotlib.axes._subplots.AxesSubplot object at 0x000000000FBF8198>,\n",
       "        <matplotlib.axes._subplots.AxesSubplot object at 0x000000000FC6B908>,\n",
       "        <matplotlib.axes._subplots.AxesSubplot object at 0x000000000FD2B0B8>,\n",
       "        <matplotlib.axes._subplots.AxesSubplot object at 0x000000000FD9F828>],\n",
       "       [<matplotlib.axes._subplots.AxesSubplot object at 0x000000000FDD4F98>,\n",
       "        <matplotlib.axes._subplots.AxesSubplot object at 0x000000000FE59748>,\n",
       "        <matplotlib.axes._subplots.AxesSubplot object at 0x000000000FECFEB8>,\n",
       "        <matplotlib.axes._subplots.AxesSubplot object at 0x000000000FF54668>,\n",
       "        <matplotlib.axes._subplots.AxesSubplot object at 0x000000001000EDD8>],\n",
       "       [<matplotlib.axes._subplots.AxesSubplot object at 0x0000000010090588>,\n",
       "        <matplotlib.axes._subplots.AxesSubplot object at 0x0000000010106CC0>,\n",
       "        <matplotlib.axes._subplots.AxesSubplot object at 0x00000000101CC470>,\n",
       "        <matplotlib.axes._subplots.AxesSubplot object at 0x00000000101FFBE0>,\n",
       "        <matplotlib.axes._subplots.AxesSubplot object at 0x0000000010308390>],\n",
       "       [<matplotlib.axes._subplots.AxesSubplot object at 0x00000000103BFB00>,\n",
       "        <matplotlib.axes._subplots.AxesSubplot object at 0x00000000104222B0>,\n",
       "        <matplotlib.axes._subplots.AxesSubplot object at 0x0000000010454A20>,\n",
       "        <matplotlib.axes._subplots.AxesSubplot object at 0x000000001055F1D0>,\n",
       "        <matplotlib.axes._subplots.AxesSubplot object at 0x0000000010592940>]],\n",
       "      dtype=object)"
      ]
     },
     "execution_count": 13,
     "metadata": {},
     "output_type": "execute_result"
    },
    {
     "data": {
      "image/png": "[encoded data removed]",
      "text/plain": [
       "<Figure size 864x576 with 25 Axes>"
      ]
     },
     "metadata": {
      "needs_background": "light"
     },
     "output_type": "display_data"
    }
   ],
   "source": [
    "from pandas.plotting import scatter_matrix\n",
    "attributes = ['beds', 'accommodates','bedrooms', 'bathrooms', 'price']\n",
    "scatter_matrix(airfill[attributes], figsize = (12 , 8))"
   ]
  },
  {
   "cell_type": "markdown",
   "metadata": {},
   "source": [
    "The plots show that they are linear relationships between prices and beds, accomodates, bedrooms, and bathrooms attributes. It also reveals the possibility of an outlier. Hence, a closer look of each plot is created to examine the outlier. "
   ]
  },
  {
   "cell_type": "code",
   "execution_count": 14,
   "metadata": {},
   "outputs": [
    {
     "data": {
      "text/plain": [
       "Text(0.5,1,'Relationship between bathrooms and price')"
      ]
     },
     "execution_count": 14,
     "metadata": {},
     "output_type": "execute_result"
    },
    {
     "data": {
      "image/png": "[encoded data removed]",
      "text/plain": [
       "<Figure size 432x288 with 1 Axes>"
      ]
     },
     "metadata": {
      "needs_background": "light"
     },
     "output_type": "display_data"
    },
    {
     "data": {
      "image/png": "[encoded data removed]",
      "text/plain": [
       "<Figure size 432x288 with 1 Axes>"
      ]
     },
     "metadata": {
      "needs_background": "light"
     },
     "output_type": "display_data"
    },
    {
     "data": {
      "image/png": "[encoded data removed]",
      "text/plain": [
       "<Figure size 432x288 with 1 Axes>"
      ]
     },
     "metadata": {
      "needs_background": "light"
     },
     "output_type": "display_data"
    },
    {
     "data": {
      "image/png": "[encoded data removed]",
      "text/plain": [
       "<Figure size 432x288 with 1 Axes>"
      ]
     },
     "metadata": {
      "needs_background": "light"
     },
     "output_type": "display_data"
    }
   ],
   "source": [
    "# Zoom in to see each plot\n",
    "airfill.plot(kind = \"scatter\", x = 'beds', y = 'price')\n",
    "plt.title ( \"Relationship between beds and price\")\n",
    "airfill.plot(kind = \"scatter\", x = 'accommodates', y = 'price')\n",
    "plt.title ( \"Relationship between accomodates and price\")\n",
    "airfill.plot(kind = \"scatter\", x = 'bedrooms', y = 'price')\n",
    "plt.title ( \"Relationship between bedrooms and price\")\n",
    "airfill.plot(kind = \"scatter\", x = 'bathrooms', y = 'price')\n",
    "plt.title ( \"Relationship between bathrooms and price\")"
   ]
  },
  {
   "cell_type": "markdown",
   "metadata": {},
   "source": [
    "A closer look at the plots reveal 2 outliers which sit far apart from other data points, they are the points with the price value of 5000 and 1600.  "
   ]
  },
  {
   "cell_type": "markdown",
   "metadata": {},
   "source": [
    "# Cleaning Data"
   ]
  },
  {
   "cell_type": "markdown",
   "metadata": {},
   "source": [
    "Outliers\n",
    "\n",
    "The visualization performed in the previous step revealed 2 outliers. Outliers can drastically change the results of data analysis and modeling. For example, it increases the error variance and reduces the power of statistical tests. Accordingly, they should be removed before modeling."
   ]
  },
  {
   "cell_type": "code",
   "execution_count": 15,
   "metadata": {},
   "outputs": [
    {
     "name": "stderr",
     "output_type": "stream",
     "text": [
      "C:\\Anaconda2\\lib\\site-packages\\ipykernel_launcher.py:2: UserWarning: Boolean Series key will be reindexed to match DataFrame index.\n",
      "  \n"
     ]
    }
   ],
   "source": [
    "# cleaning removing outliers found in the previous step.\n",
    "airfill = airfill[(airbnb['price'] <> 5000)& (airbnb['price'] <> 1600)]"
   ]
  },
  {
   "cell_type": "markdown",
   "metadata": {},
   "source": [
    "Categorical attributes\n",
    "\n",
    "Moreover, there are 2 categorical attributes, property_type and room_type which haven’t been processed yet. Machine learning prefers to work with a number rather than text. Hence these must be converted into numerical categorical and put back to the dataframe before further processing."
   ]
  },
  {
   "cell_type": "code",
   "execution_count": 16,
   "metadata": {},
   "outputs": [
    {
     "name": "stderr",
     "output_type": "stream",
     "text": [
      "C:\\Anaconda2\\lib\\site-packages\\sklearn\\preprocessing\\_encoders.py:368: FutureWarning: The handling of integer data will change in version 0.22. Currently, the categories are determined based on the range [0, max(values)], while in the future they will be determined based on the unique values.\n",
      "If you want the future behaviour and silence this warning, you can specify \"categories='auto'\".\n",
      "In case you used a LabelEncoder before this OneHotEncoder to convert the categories to integers, then you can now use the OneHotEncoder directly.\n",
      "  warnings.warn(msg, FutureWarning)\n"
     ]
    },
    {
     "data": {
      "text/plain": [
       "array([[1., 0., 0.],\n",
       "       [1., 0., 0.],\n",
       "       [1., 0., 0.],\n",
       "       ...,\n",
       "       [1., 0., 0.],\n",
       "       [0., 1., 0.],\n",
       "       [1., 0., 0.]])"
      ]
     },
     "execution_count": 16,
     "metadata": {},
     "output_type": "execute_result"
    }
   ],
   "source": [
    "# covcert room_type to numerical category\n",
    "room_type = airfill['room_type']\n",
    "room_type_encoded, room_categories = room_type.factorize()\n",
    "room_type_encoded[:10]\n",
    "room_categories\n",
    "from sklearn.preprocessing import OneHotEncoder\n",
    "encoder = OneHotEncoder()\n",
    "room_cat_1hot = encoder.fit_transform(room_type_encoded.reshape(-1,1))\n",
    "room_cat_1hot\n",
    "room_cat_1hot_array  = room_cat_1hot.toarray()\n",
    "room_cat_1hot_array"
   ]
  },
  {
   "cell_type": "code",
   "execution_count": 17,
   "metadata": {},
   "outputs": [],
   "source": [
    "# add new encoded room_type category data to the dataframe\n",
    "enc_room_data = pd.DataFrame(room_cat_1hot.toarray())\n",
    "enc_room_data.columns = room_categories\n",
    "enc_room_data.index =airfill.index \n",
    "airfill_room = airfill.join(enc_room_data)"
   ]
  },
  {
   "cell_type": "code",
   "execution_count": 18,
   "metadata": {},
   "outputs": [
    {
     "data": {
      "text/plain": [
       "array([[1., 0., 0., ..., 0., 0., 0.],\n",
       "       [0., 1., 0., ..., 0., 0., 0.],\n",
       "       [1., 0., 0., ..., 0., 0., 0.],\n",
       "       ...,\n",
       "       [0., 0., 1., ..., 0., 0., 0.],\n",
       "       [0., 0., 0., ..., 0., 0., 1.],\n",
       "       [0., 0., 1., ..., 0., 0., 0.]])"
      ]
     },
     "execution_count": 18,
     "metadata": {},
     "output_type": "execute_result"
    }
   ],
   "source": [
    "# covcert property_type to numerical category\n",
    "prop_type = airfill['property_type']\n",
    "prop_type_encoded, prop_categories = prop_type.factorize()\n",
    "prop_type_encoded[:10]\n",
    "prop_categories\n",
    "encoder_prop = OneHotEncoder()\n",
    "prop_cat_1hot = encoder_prop.fit_transform(prop_type_encoded.reshape(-1,1))\n",
    "prop_cat_1hot\n",
    "prop_cat_1hot_array  = prop_cat_1hot.toarray()\n",
    "prop_cat_1hot_array"
   ]
  },
  {
   "cell_type": "code",
   "execution_count": 19,
   "metadata": {},
   "outputs": [],
   "source": [
    "# add new encoded room_type category data to the dataframe\n",
    "enc_prop_data = pd.DataFrame(prop_cat_1hot.toarray())\n",
    "enc_prop_data.columns = prop_categories\n",
    "enc_prop_data.index =airfill_room.index \n",
    "air_prep = airfill_room.join(enc_prop_data)"
   ]
  },
  {
   "cell_type": "code",
   "execution_count": 20,
   "metadata": {},
   "outputs": [
    {
     "data": {
      "text/html": [
       "<div>\n",
       "<style scoped>\n",
       "    .dataframe tbody tr th:only-of-type {\n",
       "        vertical-align: middle;\n",
       "    }\n",
       "\n",
       "    .dataframe tbody tr th {\n",
       "        vertical-align: top;\n",
       "    }\n",
       "\n",
       "    .dataframe thead th {\n",
       "        text-align: right;\n",
       "    }\n",
       "</style>\n",
       "<table border=\"1\" class=\"dataframe\">\n",
       "  <thead>\n",
       "    <tr style=\"text-align: right;\">\n",
       "      <th></th>\n",
       "      <th>id</th>\n",
       "      <th>name</th>\n",
       "      <th>host_id</th>\n",
       "      <th>host_name</th>\n",
       "      <th>neighbourhood</th>\n",
       "      <th>postcode</th>\n",
       "      <th>latitude</th>\n",
       "      <th>longitude</th>\n",
       "      <th>property_type</th>\n",
       "      <th>room_type</th>\n",
       "      <th>...</th>\n",
       "      <th>Bungalow</th>\n",
       "      <th>Tent</th>\n",
       "      <th>Boat</th>\n",
       "      <th>Hotel</th>\n",
       "      <th>Cottage</th>\n",
       "      <th>Camper/RV</th>\n",
       "      <th>Shepherd's hut (U.K., France)</th>\n",
       "      <th>Boutique hotel</th>\n",
       "      <th>Farm stay</th>\n",
       "      <th>Casa particular (Cuba)</th>\n",
       "    </tr>\n",
       "  </thead>\n",
       "  <tbody>\n",
       "    <tr>\n",
       "      <th>0</th>\n",
       "      <td>70820</td>\n",
       "      <td>City View - Sarah's double room.</td>\n",
       "      <td>360195</td>\n",
       "      <td>Sarah</td>\n",
       "      <td>Windmill Hill</td>\n",
       "      <td>BS3 4</td>\n",
       "      <td>51.439942</td>\n",
       "      <td>-2.591726</td>\n",
       "      <td>Townhouse</td>\n",
       "      <td>Private room</td>\n",
       "      <td>...</td>\n",
       "      <td>0.0</td>\n",
       "      <td>0.0</td>\n",
       "      <td>0.0</td>\n",
       "      <td>0.0</td>\n",
       "      <td>0.0</td>\n",
       "      <td>0.0</td>\n",
       "      <td>0.0</td>\n",
       "      <td>0.0</td>\n",
       "      <td>0.0</td>\n",
       "      <td>0.0</td>\n",
       "    </tr>\n",
       "    <tr>\n",
       "      <th>1</th>\n",
       "      <td>117122</td>\n",
       "      <td>City Centre - Waterside Retreat</td>\n",
       "      <td>591555</td>\n",
       "      <td>Marcus</td>\n",
       "      <td>Clifton</td>\n",
       "      <td>BS8 4UJ</td>\n",
       "      <td>51.450512</td>\n",
       "      <td>-2.610536</td>\n",
       "      <td>Apartment</td>\n",
       "      <td>Private room</td>\n",
       "      <td>...</td>\n",
       "      <td>0.0</td>\n",
       "      <td>0.0</td>\n",
       "      <td>0.0</td>\n",
       "      <td>0.0</td>\n",
       "      <td>0.0</td>\n",
       "      <td>0.0</td>\n",
       "      <td>0.0</td>\n",
       "      <td>0.0</td>\n",
       "      <td>0.0</td>\n",
       "      <td>0.0</td>\n",
       "    </tr>\n",
       "    <tr>\n",
       "      <th>2</th>\n",
       "      <td>146407</td>\n",
       "      <td>Sunny Central Artist Cottage (Dbl)</td>\n",
       "      <td>708175</td>\n",
       "      <td>Orla</td>\n",
       "      <td>Southville</td>\n",
       "      <td>BS3</td>\n",
       "      <td>51.441308</td>\n",
       "      <td>-2.602706</td>\n",
       "      <td>Townhouse</td>\n",
       "      <td>Private room</td>\n",
       "      <td>...</td>\n",
       "      <td>0.0</td>\n",
       "      <td>0.0</td>\n",
       "      <td>0.0</td>\n",
       "      <td>0.0</td>\n",
       "      <td>0.0</td>\n",
       "      <td>0.0</td>\n",
       "      <td>0.0</td>\n",
       "      <td>0.0</td>\n",
       "      <td>0.0</td>\n",
       "      <td>0.0</td>\n",
       "    </tr>\n",
       "    <tr>\n",
       "      <th>3</th>\n",
       "      <td>176306</td>\n",
       "      <td>The White Room -  Central Bristol Art House Ga...</td>\n",
       "      <td>708175</td>\n",
       "      <td>Orla</td>\n",
       "      <td>Bedminster</td>\n",
       "      <td>0</td>\n",
       "      <td>51.441006</td>\n",
       "      <td>-2.601208</td>\n",
       "      <td>Townhouse</td>\n",
       "      <td>Private room</td>\n",
       "      <td>...</td>\n",
       "      <td>0.0</td>\n",
       "      <td>0.0</td>\n",
       "      <td>0.0</td>\n",
       "      <td>0.0</td>\n",
       "      <td>0.0</td>\n",
       "      <td>0.0</td>\n",
       "      <td>0.0</td>\n",
       "      <td>0.0</td>\n",
       "      <td>0.0</td>\n",
       "      <td>0.0</td>\n",
       "    </tr>\n",
       "    <tr>\n",
       "      <th>4</th>\n",
       "      <td>220956</td>\n",
       "      <td>Light, Modern, 1st Floor Apartment.</td>\n",
       "      <td>1145941</td>\n",
       "      <td>Stephen</td>\n",
       "      <td>Bedminster</td>\n",
       "      <td>England</td>\n",
       "      <td>51.438517</td>\n",
       "      <td>-2.601421</td>\n",
       "      <td>Apartment</td>\n",
       "      <td>Entire home/apt</td>\n",
       "      <td>...</td>\n",
       "      <td>0.0</td>\n",
       "      <td>0.0</td>\n",
       "      <td>0.0</td>\n",
       "      <td>0.0</td>\n",
       "      <td>0.0</td>\n",
       "      <td>0.0</td>\n",
       "      <td>0.0</td>\n",
       "      <td>0.0</td>\n",
       "      <td>0.0</td>\n",
       "      <td>0.0</td>\n",
       "    </tr>\n",
       "  </tbody>\n",
       "</table>\n",
       "<p>5 rows × 57 columns</p>\n",
       "</div>"
      ],
      "text/plain": [
       "       id                                               name  host_id  \\\n",
       "0   70820                   City View - Sarah's double room.   360195   \n",
       "1  117122                    City Centre - Waterside Retreat   591555   \n",
       "2  146407                 Sunny Central Artist Cottage (Dbl)   708175   \n",
       "3  176306  The White Room -  Central Bristol Art House Ga...   708175   \n",
       "4  220956                Light, Modern, 1st Floor Apartment.  1145941   \n",
       "\n",
       "  host_name  neighbourhood postcode   latitude  longitude property_type  \\\n",
       "0     Sarah  Windmill Hill    BS3 4  51.439942  -2.591726     Townhouse   \n",
       "1    Marcus        Clifton  BS8 4UJ  51.450512  -2.610536     Apartment   \n",
       "2      Orla     Southville      BS3  51.441308  -2.602706     Townhouse   \n",
       "3      Orla     Bedminster        0  51.441006  -2.601208     Townhouse   \n",
       "4   Stephen     Bedminster  England  51.438517  -2.601421     Apartment   \n",
       "\n",
       "         room_type           ...            Bungalow  Tent  Boat  Hotel  \\\n",
       "0     Private room           ...                 0.0   0.0   0.0    0.0   \n",
       "1     Private room           ...                 0.0   0.0   0.0    0.0   \n",
       "2     Private room           ...                 0.0   0.0   0.0    0.0   \n",
       "3     Private room           ...                 0.0   0.0   0.0    0.0   \n",
       "4  Entire home/apt           ...                 0.0   0.0   0.0    0.0   \n",
       "\n",
       "   Cottage  Camper/RV  Shepherd's hut (U.K., France) Boutique hotel  \\\n",
       "0      0.0        0.0                            0.0            0.0   \n",
       "1      0.0        0.0                            0.0            0.0   \n",
       "2      0.0        0.0                            0.0            0.0   \n",
       "3      0.0        0.0                            0.0            0.0   \n",
       "4      0.0        0.0                            0.0            0.0   \n",
       "\n",
       "   Farm stay  Casa particular (Cuba)  \n",
       "0        0.0                     0.0  \n",
       "1        0.0                     0.0  \n",
       "2        0.0                     0.0  \n",
       "3        0.0                     0.0  \n",
       "4        0.0                     0.0  \n",
       "\n",
       "[5 rows x 57 columns]"
      ]
     },
     "execution_count": 20,
     "metadata": {},
     "output_type": "execute_result"
    }
   ],
   "source": [
    "# the new data fram with numerical categories of room_type and property_type is named air_prep\n",
    "air_prep.head()"
   ]
  },
  {
   "cell_type": "markdown",
   "metadata": {},
   "source": [
    "# Creating train set and test set using stratified sampling"
   ]
  },
  {
   "cell_type": "markdown",
   "metadata": {},
   "source": [
    "The last step before modeling is to separate data for model training and model testing. Stratified sampling is used rather than random sampling to ensure that both training and testing samples represent the whole population and prevent sampling bias which could happen when the dataset is not large, like the air_pred data after cleaning."
   ]
  },
  {
   "cell_type": "markdown",
   "metadata": {},
   "source": [
    "Firstly, air_pred data is divided into 4 subgroups by accommodates attribute. The attribute is used to split groups for its high correlation to price and suffice quantities of data after group division."
   ]
  },
  {
   "cell_type": "code",
   "execution_count": 21,
   "metadata": {},
   "outputs": [
    {
     "data": {
      "text/plain": [
       "<matplotlib.axes._subplots.AxesSubplot at 0xcfbbfd0>"
      ]
     },
     "execution_count": 21,
     "metadata": {},
     "output_type": "execute_result"
    },
    {
     "data": {
      "image/png": "[encoded data removed]",
      "text/plain": [
       "<Figure size 432x288 with 1 Axes>"
      ]
     },
     "metadata": {
      "needs_background": "light"
     },
     "output_type": "display_data"
    }
   ],
   "source": [
    "# divided dataset into groups for stratification.\n",
    "air_prep['accommodates_cat'] = np.ceil(air_prep['accommodates']/4)\n",
    "air_prep['accommodates_cat'].hist()"
   ]
  },
  {
   "cell_type": "markdown",
   "metadata": {},
   "source": [
    "After that, the subgroups are sampled proportionally. "
   ]
  },
  {
   "cell_type": "code",
   "execution_count": 22,
   "metadata": {},
   "outputs": [
    {
     "name": "stderr",
     "output_type": "stream",
     "text": [
      "C:\\Anaconda2\\lib\\site-packages\\ipykernel_launcher.py:7: FutureWarning: \n",
      "Passing list-likes to .loc or [] with any missing label will raise\n",
      "KeyError in the future, you can use .reindex() as an alternative.\n",
      "\n",
      "See the documentation here:\n",
      "https://pandas.pydata.org/pandas-docs/stable/indexing.html#deprecate-loc-reindex-listlike\n",
      "  import sys\n",
      "C:\\Anaconda2\\lib\\site-packages\\ipykernel_launcher.py:8: FutureWarning: \n",
      "Passing list-likes to .loc or [] with any missing label will raise\n",
      "KeyError in the future, you can use .reindex() as an alternative.\n",
      "\n",
      "See the documentation here:\n",
      "https://pandas.pydata.org/pandas-docs/stable/indexing.html#deprecate-loc-reindex-listlike\n",
      "  \n"
     ]
    }
   ],
   "source": [
    "# stratified sampling \n",
    "from sklearn.model_selection import StratifiedShuffleSplit\n",
    "\n",
    "\n",
    "split = StratifiedShuffleSplit(n_splits = 1, test_size = 0.2, random_state = 42)\n",
    "for train_index, test_index in split.split(air_prep, air_prep['accommodates_cat']):\n",
    "    strat_train_set = air_prep.loc[train_index]\n",
    "    strat_test_set = air_prep.loc[test_index]"
   ]
  },
  {
   "cell_type": "markdown",
   "metadata": {},
   "source": [
    "The proportion of each accommodates subgroup of the train set, test set, and full cleaned data are very similar."
   ]
  },
  {
   "cell_type": "code",
   "execution_count": 23,
   "metadata": {},
   "outputs": [
    {
     "name": "stdout",
     "output_type": "stream",
     "text": [
      "1.0    0.805970\n",
      "2.0    0.155650\n",
      "3.0    0.014925\n",
      "4.0    0.004264\n",
      "Name: accommodates_cat, dtype: float64\n",
      "1.0    0.829151\n",
      "2.0    0.134544\n",
      "3.0    0.016551\n",
      "4.0    0.006941\n",
      "Name: accommodates_cat, dtype: float64\n",
      "1.0    0.835611\n",
      "2.0    0.140478\n",
      "3.0    0.017079\n",
      "4.0    0.006832\n",
      "Name: accommodates_cat, dtype: float64\n"
     ]
    }
   ],
   "source": [
    "# reviewing stratify test set, train set and comparing with original\n",
    "print strat_test_set['accommodates_cat'].value_counts()/len(strat_test_set)\n",
    "print strat_train_set['accommodates_cat'].value_counts()/len(strat_train_set)\n",
    "print air_prep['accommodates_cat'].value_counts()/len(air_prep)\n",
    "\n",
    "# drop accommodate cat off from train, test set\n",
    "strat_train_set.drop('accommodates_cat', axis = 1, inplace = True)\n",
    "strat_test_set.drop('accommodates_cat', axis = 1, inplace = True)"
   ]
  },
  {
   "cell_type": "markdown",
   "metadata": {},
   "source": [
    "# Building and Evaluating Model"
   ]
  },
  {
   "cell_type": "markdown",
   "metadata": {},
   "source": [
    "Preprocessing:"
   ]
  },
  {
   "cell_type": "markdown",
   "metadata": {},
   "source": [
    "Before going to training and evaluating a model, first, create a copy of the training set so that any change during training won’t affect the original training set. Then, separate predictors and labels of the training set, also drop object attributes which are not used in regression models in this step. "
   ]
  },
  {
   "cell_type": "code",
   "execution_count": 24,
   "metadata": {},
   "outputs": [],
   "source": [
    "# create a copy of train set to do train\n",
    "train =strat_train_set.copy()\n",
    "\n",
    "# drop na from test set\n",
    "train.dropna(0, how = 'any', inplace = True)"
   ]
  },
  {
   "cell_type": "code",
   "execution_count": 82,
   "metadata": {},
   "outputs": [],
   "source": [
    "# seperate predictors and labels\n",
    "# drop price and all other non numerical data\n",
    "train_var = train.drop(['price','id', 'name', 'host_id', 'host_name', 'neighbourhood', 'postcode', 'property_type', 'room_type','last_review'] ,axis = 1)\n",
    "train_lab = train['price']"
   ]
  },
  {
   "cell_type": "markdown",
   "metadata": {},
   "source": [
    "Next is to standardise the features of predictors in the training set. The standardisation is a necessary step as regression algorithms are not working well when ranges of data are highly different. The predictors of training set has high variation in range, for example, accommodates feature ranges from 1 to 16, while review_score rating ranges from 0 to 100. "
   ]
  },
  {
   "cell_type": "code",
   "execution_count": 26,
   "metadata": {},
   "outputs": [],
   "source": [
    "# prepare predictor for training\n",
    "# feature scaling, some algorithm can't work well if the rnge of each attribute are highly different.\n",
    "from sklearn import preprocessing\n",
    "std_scaler = preprocessing.StandardScaler()\n",
    "train_var[['latitude', 'longitude','beds', 'accommodates', 'bedrooms', 'bathrooms', 'minimum_nights', 'number_of_reviews','reviews_per_month', 'review_scores_rating','review_scores_accuracy', 'review_scores_cleanliness','review_scores_checkin', 'review_scores_communication', 'review_scores_location','review_scores_value', 'calculated_host_listings_count', 'availability_365']] = std_scaler.fit_transform(train_var[['latitude', 'longitude','beds', 'accommodates', 'bedrooms', 'bathrooms', 'minimum_nights', 'number_of_reviews','reviews_per_month', 'review_scores_rating','review_scores_accuracy', 'review_scores_cleanliness','review_scores_checkin', 'review_scores_communication', 'review_scores_location','review_scores_value', 'calculated_host_listings_count', 'availability_365']])"
   ]
  },
  {
   "cell_type": "markdown",
   "metadata": {},
   "source": [
    "Modeling and Evaluating models\n",
    "\n",
    "Various models can be used to predict numerical numbers. However, none of them guarantees to work better than others. To find the best model for any analysis, it is essential to try the algorithms and evaluate them. Accordingly, a few regression models will be built and evaluate using cross-validation technique. \n",
    "\n",
    "The cross validation technique allows the algorithm to utilise training data fully. Moreover, it gives not only an estimated performance of the model but also how precise the estimation is.\n",
    "\n",
    "After that, the learning curve of the train set and validation set will be plotted observe the model behavior if it is overfitted or underfitted."
   ]
  },
  {
   "cell_type": "code",
   "execution_count": 27,
   "metadata": {},
   "outputs": [],
   "source": [
    "# run data set and calculate rmse\n",
    "from sklearn.metrics import mean_squared_error\n",
    "\n",
    "# trying cross-validation\n",
    "from sklearn.model_selection import cross_val_score\n"
   ]
  },
  {
   "cell_type": "code",
   "execution_count": 28,
   "metadata": {},
   "outputs": [],
   "source": [
    "# code to display cross validation's scores\n",
    "def display_scores(scores):\n",
    "    print(\"scores:\", scores)\n",
    "    print(\"mean:\", scores.mean())\n",
    "    print(\"standard deviation:\", scores.std())"
   ]
  },
  {
   "cell_type": "code",
   "execution_count": 29,
   "metadata": {},
   "outputs": [],
   "source": [
    "# plot learning curve\n",
    "from sklearn.model_selection import train_test_split\n",
    "\n",
    "\n",
    "# create learning curve\n",
    "def plot_learning_curves(model, X, y): # be careful the X and Y here\n",
    "    X_train, X_val, y_train, y_val = train_test_split(X,y, test_size =0.2)\n",
    "    train_errors, val_errors = [], []\n",
    "    for m in range (1, len(X_train)):\n",
    "        model.fit(X_train[:m], y_train[:m])\n",
    "        y_train_predict = model.predict(X_train[:m])\n",
    "        y_val_predict = model.predict(X_val)\n",
    "        train_errors.append(mean_squared_error(y_train[:m], y_train_predict))\n",
    "        val_errors.append(mean_squared_error(y_val, y_val_predict))\n",
    "    plt.plot(np.sqrt(train_errors), \"r-+\", linewidth = 2, label = \"train\")\n",
    "    plt.plot(np.sqrt(val_errors), \"b-\", linewidth = 4, label = \"val\")\n",
    "    plt.legend(loc = 'upper right', fontsize = 14)\n",
    "    plt.xlabel ('Training set size', fontsize = 14)\n",
    "    plt.xlabel ('RMSE', fontsize = 14)"
   ]
  },
  {
   "cell_type": "markdown",
   "metadata": {},
   "source": [
    "Linear Regression\n",
    "\n",
    "The first model to train is linear regression. Linear regression is one of the simplest models which can predict a quantitative variable from one or more predictor variables.\n"
   ]
  },
  {
   "cell_type": "code",
   "execution_count": 30,
   "metadata": {},
   "outputs": [],
   "source": [
    "# linear regression \n",
    "from sklearn.linear_model import LinearRegression"
   ]
  },
  {
   "cell_type": "code",
   "execution_count": 31,
   "metadata": {},
   "outputs": [
    {
     "data": {
      "text/plain": [
       "LinearRegression(copy_X=True, fit_intercept=True, n_jobs=None,\n",
       "         normalize=False)"
      ]
     },
     "execution_count": 31,
     "metadata": {},
     "output_type": "execute_result"
    }
   ],
   "source": [
    "# linear regression training\n",
    "lin_reg = LinearRegression()\n",
    "lin_reg.fit(train_var, train_lab)"
   ]
  },
  {
   "cell_type": "code",
   "execution_count": 32,
   "metadata": {},
   "outputs": [
    {
     "name": "stdout",
     "output_type": "stream",
     "text": [
      "2269.3502026380847\n",
      "47.637697285218195\n"
     ]
    }
   ],
   "source": [
    "# linear regression rmse\n",
    "from sklearn.metrics import mean_squared_error\n",
    "lin_train_prediction = lin_reg.predict(train_var)\n",
    "lin_mse = mean_squared_error(train_lab, lin_train_prediction)\n",
    "lin_rmse = np.sqrt(lin_mse)\n",
    "print lin_mse\n",
    "print lin_rmse"
   ]
  },
  {
   "cell_type": "code",
   "execution_count": 33,
   "metadata": {},
   "outputs": [
    {
     "name": "stdout",
     "output_type": "stream",
     "text": [
      "('scores:', array([50.21766342, 65.50497665, 63.47859481, 35.10918984, 29.29351284,\n",
      "       46.29543924, 72.81551228, 33.57145781, 66.66259501, 31.31178433]))\n",
      "('mean:', 49.426072622032095)\n",
      "('standard deviation:', 15.812605587429202)\n"
     ]
    }
   ],
   "source": [
    "# linear regression cross validation\n",
    "lin_scores = cross_val_score(lin_reg, train_var, train_lab, scoring =\"neg_mean_squared_error\", cv = 10)\n",
    "lin_rmse_score = np.sqrt(-lin_scores)\n",
    "display_scores(lin_rmse_score)"
   ]
  },
  {
   "cell_type": "code",
   "execution_count": 34,
   "metadata": {},
   "outputs": [
    {
     "data": {
      "image/png": "[encoded data removed]",
      "text/plain": [
       "<Figure size 432x288 with 1 Axes>"
      ]
     },
     "metadata": {
      "needs_background": "light"
     },
     "output_type": "display_data"
    }
   ],
   "source": [
    "# plot learning curve \n",
    "plot_learning_curves(lin_reg, train_var, train_lab)"
   ]
  },
  {
   "cell_type": "markdown",
   "metadata": {},
   "source": [
    "Decision Tree Regression\n",
    "\n",
    "Next model is decision tree. It is a very useful algorithm for fitting complex dataset."
   ]
  },
  {
   "cell_type": "code",
   "execution_count": 35,
   "metadata": {},
   "outputs": [],
   "source": [
    "# train decision tree regressor\n",
    "from sklearn.tree import DecisionTreeRegressor"
   ]
  },
  {
   "cell_type": "code",
   "execution_count": 36,
   "metadata": {},
   "outputs": [
    {
     "data": {
      "text/plain": [
       "DecisionTreeRegressor(criterion='mse', max_depth=None, max_features=None,\n",
       "           max_leaf_nodes=None, min_impurity_decrease=0.0,\n",
       "           min_impurity_split=None, min_samples_leaf=1,\n",
       "           min_samples_split=2, min_weight_fraction_leaf=0.0,\n",
       "           presort=False, random_state=None, splitter='best')"
      ]
     },
     "execution_count": 36,
     "metadata": {},
     "output_type": "execute_result"
    }
   ],
   "source": [
    "# decision tree regression training\n",
    "tree_reg = DecisionTreeRegressor()\n",
    "tree_reg.fit(train_var, train_lab)"
   ]
  },
  {
   "cell_type": "code",
   "execution_count": 66,
   "metadata": {},
   "outputs": [
    {
     "name": "stdout",
     "output_type": "stream",
     "text": [
      "704.4045429962142\n",
      "26.540620621911128\n"
     ]
    }
   ],
   "source": [
    "# decision tree regression rmse\n",
    "tree_train_prediction = tree_reg.predict(train_var)\n",
    "tree_mse = mean_squared_error(train_lab, tree_train_prediction)\n",
    "tree_rmse = np.sqrt(tree_mse)\n",
    "print tree_mse\n",
    "print tree_rmse"
   ]
  },
  {
   "cell_type": "code",
   "execution_count": 67,
   "metadata": {},
   "outputs": [
    {
     "name": "stdout",
     "output_type": "stream",
     "text": [
      "('scores:', array([63.74421012, 68.01160473, 38.5337339 , 67.2066599 , 55.04921631,\n",
      "       66.35714182, 65.98009528, 46.06200287, 66.9073583 , 35.6878831 ]))\n",
      "('mean:', 57.353990633308534)\n",
      "('standard deviation:', 12.060975221731535)\n"
     ]
    }
   ],
   "source": [
    "# decision tree regression cross validation\n",
    "tree_scores = cross_val_score(tree_reg, train_var, train_lab, scoring =\"neg_mean_squared_error\", cv = 10)\n",
    "tree_rmse_score = np.sqrt(-tree_scores)\n",
    "display_scores(tree_rmse_score)"
   ]
  },
  {
   "cell_type": "code",
   "execution_count": 39,
   "metadata": {},
   "outputs": [
    {
     "data": {
      "image/png": "[encoded data removed]",
      "text/plain": [
       "<Figure size 432x288 with 1 Axes>"
      ]
     },
     "metadata": {
      "needs_background": "light"
     },
     "output_type": "display_data"
    }
   ],
   "source": [
    "# plot learning curve \n",
    "plot_learning_curves(tree_reg, train_var, train_lab)"
   ]
  },
  {
   "cell_type": "markdown",
   "metadata": {},
   "source": [
    "Support Vector Machines Regression\n",
    "\n",
    "Another model is Support Vector Machine. It is a very versatile algorithm which can perform both classification and regression tasks, and it also supports both linear and non linear regression."
   ]
  },
  {
   "cell_type": "code",
   "execution_count": 40,
   "metadata": {},
   "outputs": [],
   "source": [
    "# train svm regressor\n",
    "from sklearn.svm import LinearSVR"
   ]
  },
  {
   "cell_type": "code",
   "execution_count": 41,
   "metadata": {},
   "outputs": [
    {
     "data": {
      "text/plain": [
       "LinearSVR(C=1.0, dual=True, epsilon=5, fit_intercept=True,\n",
       "     intercept_scaling=1.0, loss='epsilon_insensitive', max_iter=1000,\n",
       "     random_state=None, tol=0.0001, verbose=0)"
      ]
     },
     "execution_count": 41,
     "metadata": {},
     "output_type": "execute_result"
    }
   ],
   "source": [
    "# svm regression training\n",
    "svm_reg = LinearSVR(epsilon = 5)\n",
    "svm_reg.fit(train_var, train_lab)"
   ]
  },
  {
   "cell_type": "code",
   "execution_count": 42,
   "metadata": {},
   "outputs": [
    {
     "name": "stdout",
     "output_type": "stream",
     "text": [
      "2891.072826379213\n",
      "53.768697458458234\n"
     ]
    }
   ],
   "source": [
    "# svm regression rmse\n",
    "svm_train_prediction = svm_reg.predict(train_var)\n",
    "svm_mse = mean_squared_error(train_lab, svm_train_prediction)\n",
    "svm_rmse = np.sqrt(svm_mse)\n",
    "print svm_mse\n",
    "print svm_rmse"
   ]
  },
  {
   "cell_type": "code",
   "execution_count": 43,
   "metadata": {},
   "outputs": [
    {
     "name": "stdout",
     "output_type": "stream",
     "text": [
      "('scores:', array([47.25265863, 80.58357432, 51.62766958, 40.00270675, 25.85139366,\n",
      "       49.3422669 , 80.62222274, 38.12203812, 66.40648158, 29.02563159]))\n",
      "('mean:', 50.88366438772734)\n",
      "('standard deviation:', 18.463966336135023)\n"
     ]
    }
   ],
   "source": [
    "# svm regression cross validation\n",
    "svm_scores = cross_val_score(svm_reg, train_var, train_lab, scoring =\"neg_mean_squared_error\", cv = 10)\n",
    "svm_rmse_score = np.sqrt(-svm_scores)\n",
    "display_scores(svm_rmse_score)"
   ]
  },
  {
   "cell_type": "code",
   "execution_count": 44,
   "metadata": {},
   "outputs": [
    {
     "data": {
      "image/png": "[encoded data removed]",
      "text/plain": [
       "<Figure size 432x288 with 1 Axes>"
      ]
     },
     "metadata": {
      "needs_background": "light"
     },
     "output_type": "display_data"
    }
   ],
   "source": [
    "# plot learning curve \n",
    "plot_learning_curves(svm_reg, train_var, train_lab)"
   ]
  },
  {
   "cell_type": "markdown",
   "metadata": {},
   "source": [
    "Random Forest Regression\n",
    "\n",
    "Last model to train is Random Forest  Regression which is an ensemble of Decision Trees. It is suitable for solving complex questions like this case. "
   ]
  },
  {
   "cell_type": "code",
   "execution_count": 45,
   "metadata": {},
   "outputs": [],
   "source": [
    "# train random forest regressor\n",
    "from sklearn.ensemble import RandomForestRegressor"
   ]
  },
  {
   "cell_type": "code",
   "execution_count": 93,
   "metadata": {},
   "outputs": [
    {
     "data": {
      "text/plain": [
       "RandomForestRegressor(bootstrap=True, criterion='mse', max_depth=None,\n",
       "           max_features='auto', max_leaf_nodes=None,\n",
       "           min_impurity_decrease=0.0, min_impurity_split=None,\n",
       "           min_samples_leaf=1, min_samples_split=2,\n",
       "           min_weight_fraction_leaf=0.0, n_estimators=10, n_jobs=None,\n",
       "           oob_score=False, random_state=None, verbose=0, warm_start=False)"
      ]
     },
     "execution_count": 93,
     "metadata": {},
     "output_type": "execute_result"
    }
   ],
   "source": [
    "# random forest regression training\n",
    "forest_reg = RandomForestRegressor()\n",
    "forest_reg.fit(train_var, train_lab)"
   ]
  },
  {
   "cell_type": "code",
   "execution_count": 47,
   "metadata": {},
   "outputs": [
    {
     "name": "stdout",
     "output_type": "stream",
     "text": [
      "389.12656571119527\n",
      "19.726291230517592\n"
     ]
    }
   ],
   "source": [
    "# Random forest regression rmse\n",
    "\n",
    "forest_train_prediction = forest_reg.predict(train_var)\n",
    "forest_mse = mean_squared_error(train_lab, forest_train_prediction)\n",
    "forest_rmse = np.sqrt(forest_mse)\n",
    "print forest_mse\n",
    "print forest_rmse"
   ]
  },
  {
   "cell_type": "code",
   "execution_count": 48,
   "metadata": {},
   "outputs": [
    {
     "name": "stdout",
     "output_type": "stream",
     "text": [
      "('scores:', array([38.50542749, 63.75850977, 34.96851866, 52.06853436, 33.26723329,\n",
      "       42.31164494, 68.56517121, 27.8564525 , 58.65732737, 27.70919444]))\n",
      "('mean:', 44.76680140171981)\n",
      "('standard deviation:', 14.225717103202221)\n"
     ]
    }
   ],
   "source": [
    "# random forest regression cross validation\n",
    "forest_scores = cross_val_score(forest_reg, train_var, train_lab, scoring =\"neg_mean_squared_error\", cv = 10)\n",
    "forest_rmse_score = np.sqrt(-forest_scores)\n",
    "display_scores(forest_rmse_score)"
   ]
  },
  {
   "cell_type": "code",
   "execution_count": 49,
   "metadata": {},
   "outputs": [
    {
     "data": {
      "image/png": "[encoded data removed]",
      "text/plain": [
       "<Figure size 432x288 with 1 Axes>"
      ]
     },
     "metadata": {
      "needs_background": "light"
     },
     "output_type": "display_data"
    }
   ],
   "source": [
    "# plot learning curve\n",
    "plot_learning_curves(forest_reg, train_var, train_lab)"
   ]
  },
  {
   "cell_type": "markdown",
   "metadata": {},
   "source": [
    "# Interpreting result and selecting model "
   ]
  },
  {
   "cell_type": "markdown",
   "metadata": {},
   "source": [
    "RMSE is the measure of error all 4 model performance. The lower the RMSE means, the lower the prediction error. Moreover, learning curves of training and validating set are also plotted to observe overfitting and underfitting of the regression.\n",
    "\n",
    "The linear regression’s RMSE from a single validation is 47.637y, and cross-validation is 49.4260 +/- 15.81. Very close RMSE scores and learning curves, plus quite low RMSE score as the 2nd lowest among 4 models, suggest that this model is an acceptable model.\n",
    "\n",
    "The decision tree regression has a single validation RMSE score of 26.5406 and cross-validation RMSE score of 57.3539 +/- 12.06. The low score of a single validation but a high score of cross-validation suggest that the decision tree is overfitting. Furthermore, the far better performance of training data in the learning curves confirms the conclusion.\n",
    "\n",
    "The support vector machines’ approximate RMSE for a single validation is 53.7687, and cross-validation is 50.8836 +/- 18.46. Both single and cross-validation RMSE score are quite similar but are on a higher side suggest that SVM model may be underfitted. The learning curves that are quite close, have reached a plateau when training set size is big, and quite high RMSE also support the argument.\n",
    "\n",
    "The random forest regression has a single validation’s RMSE score of 19.7263 and cross validation’s RMSE score of 44.7668 +/- 14.23. The RMSE of random forest is the best among 4 models. Moreover, the training curve of training data is close to validation data  leads to the conclusion that random forest is the best model.\n",
    "\n",
    "In conclusion, Random forest model is the final model. It is best model as it provides the  lowest RMSE score which means the prediction error of this model is the lowest among 4 models. Moreover, its single and cross-validation’s RMSE scores and both learning curves are also very similar which hint that the model isn’t overfitted or underfitted."
   ]
  },
  {
   "cell_type": "markdown",
   "metadata": {},
   "source": [
    "The final model is Random forest regression. Its regression's variables and their importance are:"
   ]
  },
  {
   "cell_type": "code",
   "execution_count": 72,
   "metadata": {},
   "outputs": [
    {
     "name": "stdout",
     "output_type": "stream",
     "text": [
      "Index([u'latitude', u'longitude', u'accommodates', u'bathrooms', u'bedrooms',\n",
      "       u'beds', u'minimum_nights', u'number_of_reviews', u'reviews_per_month',\n",
      "       u'review_scores_rating', u'review_scores_accuracy',\n",
      "       u'review_scores_cleanliness', u'review_scores_checkin',\n",
      "       u'review_scores_communication', u'review_scores_location',\n",
      "       u'review_scores_value', u'calculated_host_listings_count',\n",
      "       u'availability_365', u'Private room', u'Entire home/apt',\n",
      "       u'Shared room', u'Townhouse', u'Apartment', u'House', u'Guesthouse',\n",
      "       u'Bed and breakfast', u'Barn', u'Loft', u'Hostel', u'Condominium',\n",
      "       u'Guest suite', u'Cabin', u'Other', u'Tiny house',\n",
      "       u'Serviced apartment', u'Yurt', u'Hut', u'Bungalow', u'Tent', u'Boat',\n",
      "       u'Hotel', u'Cottage', u'Camper/RV', u'Shepherd's hut (U.K., France)',\n",
      "       u'Boutique hotel', u'Farm stay', u'Casa particular (Cuba)'],\n",
      "      dtype='object')\n"
     ]
    },
    {
     "data": {
      "text/plain": [
       "[(0.2335746037297976, 'beds'),\n",
       " (0.16415352569671623, 'accommodates'),\n",
       " (0.12594123463569448, 'bedrooms'),\n",
       " (0.10959892951955649, 'availability_365'),\n",
       " (0.04888967825422582, 'reviews_per_month'),\n",
       " (0.04561148644420777, 'Private room'),\n",
       " (0.039954752073994085, 'longitude'),\n",
       " (0.037696872119817856, 'calculated_host_listings_count'),\n",
       " (0.034923924743431596, 'latitude'),\n",
       " (0.02633288488721531, 'Entire home/apt'),\n",
       " (0.0248339356351071, 'Boat'),\n",
       " (0.018730661638530988, 'bathrooms'),\n",
       " (0.018246316833572616, 'minimum_nights'),\n",
       " (0.015022660034528592, 'Serviced apartment'),\n",
       " (0.0132031550065445, 'number_of_reviews'),\n",
       " (0.010572512123063023, 'review_scores_rating'),\n",
       " (0.00603407071686516, 'Apartment'),\n",
       " (0.004021103909574167, 'review_scores_value'),\n",
       " (0.0034723121399821387, 'review_scores_communication'),\n",
       " (0.0033213224120485904, 'review_scores_accuracy'),\n",
       " (0.0028536706182671263, 'Townhouse'),\n",
       " (0.002790959758359186, 'review_scores_location'),\n",
       " (0.002449493354924974, 'Yurt'),\n",
       " (0.0018655773708729853, 'review_scores_checkin'),\n",
       " (0.0010176588783198772, 'Other'),\n",
       " (0.0009091191446949345, 'House'),\n",
       " (0.0008137581174404813, 'Bed and breakfast'),\n",
       " (0.0007532811901691148, 'Loft'),\n",
       " (0.0007007557378924608, 'review_scores_cleanliness'),\n",
       " (0.0005755842210898416, 'Guesthouse'),\n",
       " (0.00033518932578729407, 'Shared room'),\n",
       " (0.0003105420310113272, \"Shepherd's hut (U.K., France)\"),\n",
       " (0.000155268512584757, 'Guest suite'),\n",
       " (9.815195631691391e-05, 'Boutique hotel'),\n",
       " (8.885722525410373e-05, 'Tent'),\n",
       " (7.679342265074975e-05, 'Hotel'),\n",
       " (4.3595763504761366e-05, 'Condominium'),\n",
       " (1.1266831470320421e-05, 'Barn'),\n",
       " (1.0290478460776935e-05, 'Bungalow'),\n",
       " (2.9515976692562624e-06, 'Tiny house'),\n",
       " (6.861752428509463e-07, 'Camper/RV'),\n",
       " (6.057335417963511e-07, 'Cottage'),\n",
       " (0.0, 'Hut'),\n",
       " (0.0, 'Hostel'),\n",
       " (0.0, 'Farm stay'),\n",
       " (0.0, 'Casa particular (Cuba)'),\n",
       " (0.0, 'Cabin')]"
      ]
     },
     "execution_count": 72,
     "metadata": {},
     "output_type": "execute_result"
    }
   ],
   "source": [
    "print train_var.columns\n",
    "attributes = ['latitude', 'longitude', 'accommodates', 'bathrooms', 'bedrooms','beds', 'minimum_nights', 'number_of_reviews', 'reviews_per_month','review_scores_rating', 'review_scores_accuracy','review_scores_cleanliness', 'review_scores_checkin','review_scores_communication', 'review_scores_location','review_scores_value', 'calculated_host_listings_count','availability_365', 'Private room', 'Entire home/apt','Shared room', 'Townhouse', 'Apartment', 'House', 'Guesthouse','Bed and breakfast', 'Barn', 'Loft', 'Hostel', 'Condominium','Guest suite', 'Cabin', 'Other', 'Tiny house','Serviced apartment', 'Yurt', 'Hut', 'Bungalow', 'Tent', 'Boat','Hotel', 'Cottage', 'Camper/RV', \"Shepherd's hut (U.K., France)\",'Boutique hotel', 'Farm stay', 'Casa particular (Cuba)']\n",
    "sorted(zip(forest_reg.feature_importances_, attributes), reverse=True)"
   ]
  },
  {
   "cell_type": "markdown",
   "metadata": {},
   "source": [
    "# Evaluating final model "
   ]
  },
  {
   "cell_type": "markdown",
   "metadata": {},
   "source": [
    "Before final evaluation of the model against test set, a copy of test set should be created. Then process test set in the same way train set was processed earlier. Finally, evaluate model against test set."
   ]
  },
  {
   "cell_type": "code",
   "execution_count": 51,
   "metadata": {},
   "outputs": [],
   "source": [
    "# create a copy of test set and process test set \n",
    "test =strat_test_set.copy()"
   ]
  },
  {
   "cell_type": "code",
   "execution_count": 61,
   "metadata": {},
   "outputs": [],
   "source": [
    "# Process test set as done with train set\n",
    "test.dropna(0, how = 'any', inplace = True)\n",
    "test_var = test.drop(['price','id', 'name', 'host_id', 'host_name', 'neighbourhood', 'postcode', 'property_type', 'room_type','last_review'] ,axis = 1)\n",
    "test_lab = test['price']"
   ]
  },
  {
   "cell_type": "code",
   "execution_count": 62,
   "metadata": {},
   "outputs": [],
   "source": [
    "test.dropna(0, how = 'any', inplace = True)"
   ]
  },
  {
   "cell_type": "code",
   "execution_count": 63,
   "metadata": {},
   "outputs": [],
   "source": [
    "test_var[['latitude', 'longitude','beds', 'accommodates', 'bedrooms', 'bathrooms', 'minimum_nights', 'number_of_reviews','reviews_per_month', 'review_scores_rating','review_scores_accuracy', 'review_scores_cleanliness','review_scores_checkin', 'review_scores_communication', 'review_scores_location','review_scores_value', 'calculated_host_listings_count', 'availability_365']] = std_scaler.fit_transform(test_var[['latitude', 'longitude','beds', 'accommodates', 'bedrooms', 'bathrooms', 'minimum_nights', 'number_of_reviews','reviews_per_month', 'review_scores_rating','review_scores_accuracy', 'review_scores_cleanliness','review_scores_checkin', 'review_scores_communication', 'review_scores_location','review_scores_value', 'calculated_host_listings_count', 'availability_365']])"
   ]
  },
  {
   "cell_type": "code",
   "execution_count": 68,
   "metadata": {},
   "outputs": [
    {
     "name": "stdout",
     "output_type": "stream",
     "text": [
      "1871.3972608695651\n",
      "43.259649338264005\n"
     ]
    }
   ],
   "source": [
    "# test final model\n",
    "final_model = forest_reg\n",
    "X_test = test_var\n",
    "y_test = test_lab\n",
    "final_prediction = final_model.predict(X_test)\n",
    "final_mse =mean_squared_error(y_test, final_prediction)\n",
    "final_rmse = np.sqrt(final_mse)\n",
    "print final_mse\n",
    "print final_rmse"
   ]
  },
  {
   "cell_type": "markdown",
   "metadata": {},
   "source": [
    "# Conclusion and Reccommendation"
   ]
  },
  {
   "cell_type": "markdown",
   "metadata": {},
   "source": [
    "The final model for predicting price of property on Airbnb is random forest regression model."
   ]
  },
  {
   "cell_type": "markdown",
   "metadata": {},
   "source": [
    "The model has test RMSE score of 43.2596. Though it is relatively high considered that price’s mean is 78 and the median is 59. However, it is the best among 4 models. Since the model is still lacking, fine tuning model is reccomended for a better performance. Lastly, Airbnb hosts can use this to predict the price by feeding attributes data to model."
   ]
  },
  {
   "cell_type": "code",
   "execution_count": null,
   "metadata": {},
   "outputs": [],
   "source": [
    "\n",
    "\n"
   ]
  },
  {
   "cell_type": "code",
   "execution_count": null,
   "metadata": {},
   "outputs": [],
   "source": []
  },
  {
   "cell_type": "code",
   "execution_count": null,
   "metadata": {},
   "outputs": [],
   "source": []
  },
  {
   "cell_type": "code",
   "execution_count": null,
   "metadata": {},
   "outputs": [],
   "source": [
    "\n",
    "\n",
    "\n"
   ]
  },
  {
   "cell_type": "code",
   "execution_count": null,
   "metadata": {},
   "outputs": [],
   "source": []
  },
  {
   "cell_type": "code",
   "execution_count": null,
   "metadata": {},
   "outputs": [],
   "source": []
  },
  {
   "cell_type": "code",
   "execution_count": null,
   "metadata": {},
   "outputs": [],
   "source": []
  }
 ],
 "metadata": {
  "kernelspec": {
   "display_name": "Python 3",
   "language": "python",
   "name": "python3"
  },
  "language_info": {
   "codemirror_mode": {
    "name": "ipython",
    "version": 3
   },
   "file_extension": ".py",
   "mimetype": "text/x-python",
   "name": "python",
   "nbconvert_exporter": "python",
   "pygments_lexer": "ipython3",
   "version": "3.7.1"
  }
 },
 "nbformat": 4,
 "nbformat_minor": 2
}
